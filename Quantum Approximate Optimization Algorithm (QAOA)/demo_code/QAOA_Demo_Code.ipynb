{
 "cells": [
  {
   "cell_type": "markdown",
   "metadata": {
    "slideshow": {
     "slide_type": "slide"
    }
   },
   "source": [
    "**This notebook will guide you to implement QAOA to solve MAXCUT problem using [Qiskit](https://github.com/Qiskit/qiskit)**\n",
    "## Outline\n",
    "1. install dependencies\n",
    "2. construct MAXCUT Hamiltonian and QAOA ansatz\n",
    "3. run on [Qiskit Aer simulator](https://qiskit.github.io/qiskit-aer/)\n",
    "4. (Optional) use built-in Qiskit Algorithm API\n"
   ]
  },
  {
   "cell_type": "markdown",
   "metadata": {},
   "source": [
    "\n",
    "## 1. Install the dependencies\n",
    "To do that, we will use [uv](https://docs.astral.sh/uv/#installation) to install the dependencies.\n",
    "First, install uv following the instructions [here](https://docs.astral.sh/uv/#installation).\n",
    "Then, run `uv sync` to install the dependencies."
   ]
  },
  {
   "cell_type": "markdown",
   "metadata": {},
   "source": [
    "### And check version — should match the one below"
   ]
  },
  {
   "cell_type": "code",
   "execution_count": null,
   "metadata": {
    "scrolled": true
   },
   "outputs": [],
   "source": [
    "import qiskit\n",
    "print(qiskit.__version__)"
   ]
  },
  {
   "cell_type": "markdown",
   "metadata": {
    "slideshow": {
     "slide_type": "slide"
    }
   },
   "source": [
    "## 2. Let's solve MAXCUT on a simple graph\n",
    "\n",
    "Recall the MAXCUT objective is $\\max_{\\mathbb{s}}\\frac{1}{2}\\sum_{ij\\in E}(1-s_is_j)$\n",
    "\n",
    "Before going further, let's reformulate it:\n",
    "\n",
    "$\\frac{1}{2}\\sum_{ij\\in E}(1-s_is_j) = \\frac{1}{2}\\sum_{ij\\in E}(-s_is_j) + const$\n",
    "\n",
    "Therefore the above _maximization_ problem is equivalent to the problem below:\n",
    "\n",
    "*$\\max_{\\mathbb{s}}\\sum_{ij\\in E}(-s_is_j)$*"
   ]
  },
  {
   "cell_type": "markdown",
   "metadata": {
    "slideshow": {
     "slide_type": "slide"
    }
   },
   "source": [
    "### Constructing the Hamiltonian\n",
    "\n",
    "MAXCUT is equivalent to the problem below:\n",
    "\n",
    "$\\max_{\\mathbb{s}}\\sum_{ij\\in E}(-s_is_j)$\n",
    "\n",
    "We've seen earlier that the Hamiltonian can be constructed by mapping binary variables $s_i$ onto the eigenvalues of $Z$. For the above maximization problem has the following Hamiltonian:\n",
    "\n",
    "$\\sum_{ij\\in E}(-Z_iZ_j)$"
   ]
  },
  {
   "cell_type": "markdown",
   "metadata": {
    "slideshow": {
     "slide_type": "slide"
    }
   },
   "source": [
    "### Constructing QAOA circuit\n",
    "\n",
    "Cost Hamiltonian: $C = \\sum_{ij\\in E}(-Z_iZ_j)$\n",
    "\n",
    "The full QAOA circuit:\n",
    "\n",
    "$|\\psi{(\\mathbb{\\beta},\\mathbb{\\gamma})}> =  e^{-i\\beta_p B}e^{-i\\gamma_p C}\\cdots e^{-i\\beta_1 B}e^{-i\\gamma_1 C} H^{\\otimes n} |0>$\n",
    "\n",
    "Need to implement cost operator $e^{-i\\gamma_p C}$ and mixer operator $e^{-i\\beta_p B}$"
   ]
  },
  {
   "cell_type": "markdown",
   "metadata": {
    "slideshow": {
     "slide_type": "slide"
    }
   },
   "source": [
    "### Let's beging by importing everything we'll need later"
   ]
  },
  {
   "cell_type": "code",
   "execution_count": 2,
   "metadata": {
    "slideshow": {
     "slide_type": "-"
    }
   },
   "outputs": [],
   "source": [
    "# import warnings; warnings.filterwarnings(\"ignore\")\n",
    "import numpy as np\n",
    "import networkx as nx\n",
    "import matplotlib.pyplot as plt\n",
    "from collections import defaultdict\n",
    "from operator import itemgetter\n",
    "from scipy.optimize import minimize\n",
    "from qiskit import QuantumCircuit\n",
    "from qiskit_aer import AerSimulator"
   ]
  },
  {
   "cell_type": "markdown",
   "metadata": {
    "slideshow": {
     "slide_type": "slide"
    }
   },
   "source": [
    "### Consider the following graph"
   ]
  },
  {
   "cell_type": "code",
   "execution_count": null,
   "metadata": {},
   "outputs": [],
   "source": [
    "G = nx.Graph()\n",
    "G.add_edges_from([[0,3],[0,4],[1,3],[1,4],[2,3],[2,4]])\n",
    "nx.draw(G, pos=nx.bipartite_layout(G, [0,1,2]), with_labels=True)"
   ]
  },
  {
   "cell_type": "markdown",
   "metadata": {
    "slideshow": {
     "slide_type": "slide"
    }
   },
   "source": [
    "### We can now build the circuit for cost operator\n",
    "\n",
    "Cost operator $ e^{-i\\gamma_p C} = e^{-i\\gamma_p \\sum_{ij\\in E}(-Z_iZ_j)}$\n",
    "\n",
    "Note that later we will see how to do this more efficiently in Qiskit"
   ]
  },
  {
   "cell_type": "code",
   "execution_count": 4,
   "metadata": {
    "slideshow": {
     "slide_type": "-"
    }
   },
   "outputs": [],
   "source": [
    "def append_zz_term(qc:QuantumCircuit, q1, q2, gamma):\n",
    "    qc.cx(q1,q2)\n",
    "    qc.rz(2*gamma, q2)\n",
    "    qc.cx(q1,q2)\n",
    "\n",
    "def get_cost_operator_circuit(G, gamma):\n",
    "    N = G.number_of_nodes()\n",
    "    qc = QuantumCircuit(N,N)\n",
    "    for i, j in G.edges():\n",
    "        append_zz_term(qc, i, j, gamma)\n",
    "        qc.barrier()\n",
    "    return qc\n",
    "    "
   ]
  },
  {
   "cell_type": "markdown",
   "metadata": {
    "slideshow": {
     "slide_type": "slide"
    }
   },
   "source": [
    "### Let's verify that our function produces the correct circuit\n",
    "\n",
    "Cost operator $e^{-i\\gamma_p C} = e^{-i\\gamma_p \\sum_{ij\\in E}(-Z_iZ_j)}$"
   ]
  },
  {
   "cell_type": "code",
   "execution_count": null,
   "metadata": {},
   "outputs": [],
   "source": [
    "qc = get_cost_operator_circuit(G, np.pi / 3)\n",
    "qc.draw('mpl')"
   ]
  },
  {
   "cell_type": "markdown",
   "metadata": {
    "slideshow": {
     "slide_type": "slide"
    }
   },
   "source": [
    "### Now we need to build mixer operator\n",
    "\n",
    "Mixer operator: $e^{-i\\beta_p B} = e^{-i\\beta_p \\sum_{i\\in V}X_i} = e^{-i\\beta_p X_0}e^{-i\\beta_p X_1}e^{-i\\beta_p X_2}e^{-i\\beta_p X_3}$"
   ]
  },
  {
   "cell_type": "code",
   "execution_count": 6,
   "metadata": {
    "slideshow": {
     "slide_type": "fragment"
    }
   },
   "outputs": [],
   "source": [
    "def append_x_term(qc, q1, beta):\n",
    "    qc.rx(2*beta, q1)\n",
    "\n",
    "def get_mixer_operator_circuit(G, beta):\n",
    "    N = G.number_of_nodes()\n",
    "    qc = QuantumCircuit(N,N)\n",
    "    for n in G.nodes():\n",
    "        append_x_term(qc, n, beta)\n",
    "    return qc\n"
   ]
  },
  {
   "cell_type": "markdown",
   "metadata": {
    "slideshow": {
     "slide_type": "slide"
    }
   },
   "source": [
    "### Let's verify the circuit\n",
    "\n",
    "Mixer operator: $e^{-i\\beta_p B} = e^{-i\\beta_p \\sum_{i\\in V}X_i} = e^{-i\\beta_p X_0}e^{-i\\beta_p X_1}e^{-i\\beta_p X_2}e^{-i\\beta_p X_3}e^{-i\\beta_p X_4}$"
   ]
  },
  {
   "cell_type": "code",
   "execution_count": null,
   "metadata": {},
   "outputs": [],
   "source": [
    "qc = get_mixer_operator_circuit(G, np.pi/3)\n",
    "qc.draw('mpl')"
   ]
  },
  {
   "cell_type": "markdown",
   "metadata": {
    "slideshow": {
     "slide_type": "slide"
    }
   },
   "source": [
    "### Now we are ready to build the full circuit\n",
    "\n",
    "$|\\psi{(\\mathbb{\\beta},\\mathbb{\\gamma})}> =  e^{-i\\beta_p B}e^{-i\\gamma_p C}\\cdots e^{-i\\beta_1 B}e^{-i\\gamma_1 C} H^{\\otimes n} |0>$"
   ]
  },
  {
   "cell_type": "code",
   "execution_count": 8,
   "metadata": {},
   "outputs": [],
   "source": [
    "def get_qaoa_circuit(G, beta, gamma):\n",
    "    assert(len(beta) == len(gamma))\n",
    "    p = len(beta) # infering number of QAOA steps from the parameters passed\n",
    "    N = G.number_of_nodes()\n",
    "    qc = QuantumCircuit(N,N)\n",
    "    # first, apply a layer of Hadamards\n",
    "    qc.h(range(N))\n",
    "    # second, apply p alternating operators\n",
    "    for i in range(p):\n",
    "        qc.compose(get_cost_operator_circuit(G,gamma[i]), inplace=True)\n",
    "        qc.compose(get_mixer_operator_circuit(G,beta[i]), inplace=True)\n",
    "    # finally, do not forget to measure the result!\n",
    "    qc.barrier(range(N))\n",
    "    qc.measure(range(N), range(N))\n",
    "    return qc"
   ]
  },
  {
   "cell_type": "markdown",
   "metadata": {
    "slideshow": {
     "slide_type": "slide"
    }
   },
   "source": [
    "### Let's verify that circuit looks right\n",
    "\n",
    "$|\\psi{(\\mathbb{\\beta},\\mathbb{\\gamma})}> =  e^{-i\\beta_p B}e^{-i\\gamma_p C}\\cdots e^{-i\\beta_1 B}e^{-i\\gamma_1 C} H^{\\otimes n} |0>$"
   ]
  },
  {
   "cell_type": "code",
   "execution_count": null,
   "metadata": {},
   "outputs": [],
   "source": [
    "qc = get_qaoa_circuit(G,[np.pi/3], [np.pi/2])\n",
    "qc.draw('mpl',fold=50)"
   ]
  },
  {
   "cell_type": "markdown",
   "metadata": {
    "slideshow": {
     "slide_type": "slide"
    }
   },
   "source": [
    "### Running a circuit in Qiskit\n",
    "\n",
    "For the purposes of this tutorial, we will be running the circuits in simulator. To run your circuits on real IBM quantum computers, all you need to do is change the backend. However, the devices are noisy, so there might be dragons!"
   ]
  },
  {
   "cell_type": "markdown",
   "metadata": {
    "slideshow": {
     "slide_type": "fragment"
    }
   },
   "source": [
    "#### Qiskit qubit ordering\n",
    "\n",
    "Note that Qiskit uses an ordering where zeroth qubit is the rightmost (the least significant bit in the bistring),\n",
    "so we need to invert the samples we received"
   ]
  },
  {
   "cell_type": "code",
   "execution_count": 10,
   "metadata": {},
   "outputs": [],
   "source": [
    "def invert_counts(counts):\n",
    "    return {k[::-1]:v for k, v in counts.items()}"
   ]
  },
  {
   "cell_type": "markdown",
   "metadata": {
    "slideshow": {
     "slide_type": "slide"
    }
   },
   "source": [
    "Now we can run the circuit"
   ]
  },
  {
   "cell_type": "code",
   "execution_count": null,
   "metadata": {
    "slideshow": {
     "slide_type": "-"
    }
   },
   "outputs": [],
   "source": [
    "backend = AerSimulator()\n",
    "job = backend.run(qc)\n",
    "result = job.result()\n",
    "print(invert_counts(result.get_counts()))"
   ]
  },
  {
   "cell_type": "markdown",
   "metadata": {
    "slideshow": {
     "slide_type": "slide"
    }
   },
   "source": [
    "### How good were these results?\n",
    "\n",
    "To answer that, we need to compute $<\\psi|C|\\psi>$. Luckily, C is a classical Hamiltonian, so we can do this easily. We are going to compute -1 times the value of the cut because by convention classical optimizers minimize (this will come up shortly)."
   ]
  },
  {
   "cell_type": "code",
   "execution_count": null,
   "metadata": {},
   "outputs": [],
   "source": [
    "def maxcut_obj(x,G):\n",
    "    cut = 0\n",
    "    for i, j in G.edges():\n",
    "        if x[i] != x[j]:\n",
    "            # the edge is cut\n",
    "            cut -= 1\n",
    "    return cut\n",
    "\n",
    "maxcut_obj('00011', G)"
   ]
  },
  {
   "cell_type": "markdown",
   "metadata": {
    "slideshow": {
     "slide_type": "slide"
    }
   },
   "source": [
    "### Estimate energy from the sample"
   ]
  },
  {
   "cell_type": "code",
   "execution_count": null,
   "metadata": {
    "slideshow": {
     "slide_type": "-"
    }
   },
   "outputs": [],
   "source": [
    "def compute_maxcut_energy(counts, G):\n",
    "    energy = 0\n",
    "    total_counts = 0\n",
    "    for meas, meas_count in counts.items():\n",
    "        obj_for_meas = maxcut_obj(meas, G)\n",
    "        energy += obj_for_meas * meas_count\n",
    "        total_counts += meas_count\n",
    "    return energy / total_counts\n",
    "\n",
    "compute_maxcut_energy(invert_counts(result.get_counts()), G)"
   ]
  },
  {
   "cell_type": "markdown",
   "metadata": {
    "slideshow": {
     "slide_type": "slide"
    }
   },
   "source": [
    "### Putting all the pieces together\n",
    "\n",
    "As you remember, we run QAOA as a variational algorithm, so we will need a classical optimizer to optimize the parameters $\\beta$, $\\gamma$. We will use Constrained Optimization BY Linear Approximation (COBYLA) from `scipy.optimize`.\n",
    "\n",
    "We need to wrap our circuit into a black-box objective function `f` that COBYLA could optimize. Note that by convention all optimizers perform _minimization_, so we had to put a minus sign in front of our objective earlier."
   ]
  },
  {
   "cell_type": "code",
   "execution_count": 14,
   "metadata": {},
   "outputs": [],
   "source": [
    "def get_black_box_objective(G,p):\n",
    "    backend = AerSimulator()\n",
    "    def f(theta):\n",
    "        # let's assume first half is betas, second half is gammas\n",
    "        beta = theta[:p]\n",
    "        gamma = theta[p:]\n",
    "        qc = get_qaoa_circuit(G,beta, gamma)\n",
    "        counts = backend.run(qc).result().get_counts()\n",
    "        # return the energy\n",
    "        return compute_maxcut_energy(invert_counts(counts), G)\n",
    "    return f"
   ]
  },
  {
   "cell_type": "markdown",
   "metadata": {
    "slideshow": {
     "slide_type": "slide"
    }
   },
   "source": [
    "### Now we can run the optimizer to get optimal parameters!"
   ]
  },
  {
   "cell_type": "code",
   "execution_count": null,
   "metadata": {},
   "outputs": [],
   "source": [
    "# p is the number of QAOA alternating operators\n",
    "p = 5\n",
    "obj = get_black_box_objective(G, p)\n",
    "\n",
    "init_point = np.array([0.81069872, 2.2067517 , 0.83830696, 2.15579759, 0.37060699,\n",
    "       2.42068091, 6.1575306 , 2.2453419 , 3.85060091, 6.137845  ])\n",
    "# We are going to limit the number of iterations to 2500\n",
    "res_sample = minimize(obj, init_point, method='COBYLA', options={'maxiter':2500, 'disp': True})\n",
    "res_sample"
   ]
  },
  {
   "cell_type": "markdown",
   "metadata": {
    "slideshow": {
     "slide_type": "slide"
    }
   },
   "source": [
    "### To get the solution strings, let's run the circuit with optimal parameters"
   ]
  },
  {
   "cell_type": "code",
   "execution_count": null,
   "metadata": {},
   "outputs": [],
   "source": [
    "optimal_theta = res_sample['x']\n",
    "qc = get_qaoa_circuit(G, optimal_theta[:p], optimal_theta[p:])\n",
    "counts = invert_counts(backend.run(qc).result().get_counts())\n",
    "counts"
   ]
  },
  {
   "cell_type": "markdown",
   "metadata": {
    "slideshow": {
     "slide_type": "slide"
    }
   },
   "source": [
    "### How good are there results?"
   ]
  },
  {
   "cell_type": "code",
   "execution_count": null,
   "metadata": {},
   "outputs": [],
   "source": [
    "energies = defaultdict(int)\n",
    "for k, v in counts.items():\n",
    "    energies[maxcut_obj(k,G)] += v\n",
    "\n",
    "x,y = zip(*energies.items())\n",
    "plt.bar(x,y)"
   ]
  },
  {
   "cell_type": "markdown",
   "metadata": {},
   "source": [
    "Pretty good! Most of the results we get correspond to good solutions!"
   ]
  },
  {
   "cell_type": "code",
   "execution_count": null,
   "metadata": {
    "slideshow": {
     "slide_type": "slide"
    }
   },
   "outputs": [],
   "source": [
    "# get the best solution:\n",
    "best_cut, best_solution = min([(maxcut_obj(x,G),x) for x in counts.keys()], key=itemgetter(0))\n",
    "print(f\"Best string: {best_solution} with cut: {-best_cut}\")\n",
    "\n",
    "# color the graph nodes by part\n",
    "colors = ['r' if best_solution[node] == '0' else 'b' for node in G]\n",
    "nx.draw(G,node_color = colors, pos=nx.bipartite_layout(G, [0,1,2]))"
   ]
  },
  {
   "cell_type": "markdown",
   "metadata": {},
   "source": [
    "### (Optional) Qiskit Algorithm API can help build the ansatz and Hamiltonian from problem more easily.\n",
    "refer to the documentation for more details: [QAOA](https://qiskit-community.github.io/qiskit-algorithms/tutorials/05_qaoa.html)"
   ]
  },
  {
   "cell_type": "markdown",
   "metadata": {},
   "source": []
  }
 ],
 "metadata": {
  "celltoolbar": "Slideshow",
  "kernelspec": {
   "display_name": ".venv",
   "language": "python",
   "name": "python3"
  },
  "language_info": {
   "codemirror_mode": {
    "name": "ipython",
    "version": 3
   },
   "file_extension": ".py",
   "mimetype": "text/x-python",
   "name": "python",
   "nbconvert_exporter": "python",
   "pygments_lexer": "ipython3",
   "version": "3.11.11"
  }
 },
 "nbformat": 4,
 "nbformat_minor": 2
}
