{
 "cells": [
  {
   "cell_type": "markdown",
   "id": "intense-ecology",
   "metadata": {},
   "source": [
    "# Neural Network Classifier\n",
    "\n",
    "In this tutorial we show how the `NeuralNetworkClassifier` is used.\n",
    "It takes as an input a (Quantum) `NeuralNetwork` and leverage it in a specific context.\n",
    "The tutorial is structured as follows:\n",
    "\n",
    "\n",
    "1. [Classification](#Classification) \n",
    "    * Classification with an `EstimatorQNN`\n",
    "    * Classification with a `SamplerQNN`\n",
    "    * Variational Quantum Classifier (`VQC`)\n",
    "    \n"
   ]
  },
  {
   "cell_type": "code",
   "execution_count": 1,
   "id": "functioning-sword",
   "metadata": {},
   "outputs": [],
   "source": [
    "import matplotlib.pyplot as plt\n",
    "import numpy as np\n",
    "from IPython.display import clear_output\n",
    "from qiskit import QuantumCircuit\n",
    "from qiskit.circuit import Parameter\n",
    "from qiskit.circuit.library import RealAmplitudes, ZZFeatureMap\n",
    "from qiskit_machine_learning.optimizers import COBYLA, L_BFGS_B\n",
    "from qiskit_machine_learning.utils import algorithm_globals\n",
    "\n",
    "from qiskit_machine_learning.algorithms.classifiers import NeuralNetworkClassifier, VQC\n",
    "from qiskit_machine_learning.algorithms.regressors import NeuralNetworkRegressor, VQR\n",
    "from qiskit_machine_learning.neural_networks import SamplerQNN, EstimatorQNN\n",
    "from qiskit_machine_learning.circuit.library import QNNCircuit\n",
    "\n",
    "algorithm_globals.random_seed = 42"
   ]
  },
  {
   "cell_type": "markdown",
   "id": "compact-divide",
   "metadata": {},
   "source": [
    "## Classification\n",
    "\n",
    "We prepare a simple classification dataset to illustrate the following algorithms."
   ]
  },
  {
   "cell_type": "code",
   "execution_count": null,
   "id": "short-pierre",
   "metadata": {
    "tags": [
     "nbsphinx-thumbnail"
    ]
   },
   "outputs": [],
   "source": [
    "num_inputs = 2\n",
    "num_samples = 20\n",
    "X = 2 * algorithm_globals.random.random([num_samples, num_inputs]) - 1\n",
    "y01 = 1 * (np.sum(X, axis=1) >= 0)  # in { 0,  1}\n",
    "y = 2 * y01 - 1  # in {-1, +1}\n",
    "y_one_hot = np.zeros((num_samples, 2))\n",
    "for i in range(num_samples):\n",
    "    y_one_hot[i, y01[i]] = 1\n",
    "\n",
    "for x, y_target in zip(X, y):\n",
    "    if y_target == 1:\n",
    "        plt.plot(x[0], x[1], \"bo\")\n",
    "    else:\n",
    "        plt.plot(x[0], x[1], \"go\")\n",
    "plt.plot([-1, 1], [1, -1], \"--\", color=\"black\")\n",
    "plt.show()"
   ]
  },
  {
   "cell_type": "markdown",
   "id": "religious-history",
   "metadata": {},
   "source": [
    "### Classification with an `EstimatorQNN`\n",
    "\n",
    "First we show how an `EstimatorQNN` can be used for classification within a `NeuralNetworkClassifier`. In this context, the `EstimatorQNN` is expected to return one-dimensional output in $[-1, +1]$. This only works for binary classification and we assign the two classes to $\\{-1, +1\\}$. To simplify the composition of parameterized quantum circuit from a feature map and an ansatz we can use the `QNNCircuit` class. "
   ]
  },
  {
   "cell_type": "code",
   "execution_count": null,
   "id": "ceed90df",
   "metadata": {},
   "outputs": [],
   "source": [
    "# construct QNN with the QNNCircuit's default ZZFeatureMap feature map and RealAmplitudes ansatz.\n",
    "qc = QNNCircuit(num_qubits=2)\n",
    "qc.draw(\"mpl\", style=\"clifford\")"
   ]
  },
  {
   "cell_type": "markdown",
   "id": "formed-animal",
   "metadata": {},
   "source": [
    "Create a quantum neural network.  As we are performing a local statevector simulation, we will set the `estimator` parameter from `qiskit.primitives.StatevectorEstimator`."
   ]
  },
  {
   "cell_type": "code",
   "execution_count": null,
   "id": "determined-hands",
   "metadata": {},
   "outputs": [],
   "source": [
    "from qiskit.primitives import StatevectorEstimator as Estimator\n",
    "\n",
    "estimator = Estimator()\n",
    "estimator_qnn = EstimatorQNN(circuit=qc, estimator=estimator)"
   ]
  },
  {
   "cell_type": "code",
   "execution_count": null,
   "id": "acute-casting",
   "metadata": {},
   "outputs": [],
   "source": [
    "# QNN maps inputs to [-1, +1]\n",
    "estimator_qnn.forward(X[0, :], algorithm_globals.random.random(estimator_qnn.num_weights))"
   ]
  },
  {
   "cell_type": "markdown",
   "id": "stone-holiday",
   "metadata": {},
   "source": [
    "We will add a callback function called `callback_graph`. This will be called for each iteration of the optimizer and will be passed two parameters: the current weights and the value of the objective function at those weights. For our function, we append the value of the objective function to an array so we can plot iteration versus objective function value and update the graph with each iteration. However, you can do whatever you want with a callback function as long as it gets the two parameters mentioned passed. "
   ]
  },
  {
   "cell_type": "code",
   "execution_count": 6,
   "id": "similar-controversy",
   "metadata": {},
   "outputs": [],
   "source": [
    "# callback function that draws a live plot when the .fit() method is called\n",
    "def callback_graph(weights, obj_func_eval):\n",
    "    clear_output(wait=True)\n",
    "    objective_func_vals.append(obj_func_eval)\n",
    "    plt.title(\"Objective function value against iteration\")\n",
    "    plt.xlabel(\"Iteration\")\n",
    "    plt.ylabel(\"Objective function value\")\n",
    "    plt.plot(range(len(objective_func_vals)), objective_func_vals)\n",
    "    plt.show()"
   ]
  },
  {
   "cell_type": "code",
   "execution_count": 7,
   "id": "lesser-receiver",
   "metadata": {},
   "outputs": [],
   "source": [
    "# construct neural network classifier\n",
    "estimator_classifier = NeuralNetworkClassifier(\n",
    "    estimator_qnn, optimizer=COBYLA(maxiter=60), callback=callback_graph\n",
    ")"
   ]
  },
  {
   "cell_type": "code",
   "execution_count": null,
   "id": "adopted-editor",
   "metadata": {},
   "outputs": [],
   "source": [
    "# create empty array for callback to store evaluations of the objective function\n",
    "objective_func_vals = []\n",
    "plt.rcParams[\"figure.figsize\"] = (12, 6)\n",
    "\n",
    "# fit classifier to data\n",
    "estimator_classifier.fit(X, y)\n",
    "\n",
    "# return to default figsize\n",
    "plt.rcParams[\"figure.figsize\"] = (6, 4)\n",
    "\n",
    "# score classifier\n",
    "estimator_classifier.score(X, y)"
   ]
  },
  {
   "cell_type": "code",
   "execution_count": null,
   "id": "civilian-analysis",
   "metadata": {},
   "outputs": [],
   "source": [
    "# evaluate data points\n",
    "y_predict = estimator_classifier.predict(X)\n",
    "\n",
    "# plot results\n",
    "# red == wrongly classified\n",
    "for x, y_target, y_p in zip(X, y, y_predict):\n",
    "    if y_target == 1:\n",
    "        plt.plot(x[0], x[1], \"bo\")\n",
    "    else:\n",
    "        plt.plot(x[0], x[1], \"go\")\n",
    "    if y_target != y_p:\n",
    "        plt.scatter(x[0], x[1], s=200, facecolors=\"none\", edgecolors=\"r\", linewidths=2)\n",
    "plt.plot([-1, 1], [1, -1], \"--\", color=\"black\")\n",
    "plt.show()"
   ]
  },
  {
   "cell_type": "markdown",
   "id": "japanese-seattle",
   "metadata": {},
   "source": [
    "Now, when the model is trained, we can explore the weights of the neural network. Please note, the number of weights is defined by ansatz."
   ]
  },
  {
   "cell_type": "code",
   "execution_count": null,
   "id": "offshore-basket",
   "metadata": {},
   "outputs": [],
   "source": [
    "estimator_classifier.weights"
   ]
  },
  {
   "cell_type": "markdown",
   "id": "determined-standing",
   "metadata": {},
   "source": [
    "### Classification with a `SamplerQNN`\n",
    "\n",
    "Next we show how a `SamplerQNN` can be used for classification within a `NeuralNetworkClassifier`. In this context, the `SamplerQNN` is expected to return $d$-dimensional probability vector as output, where $d$ denotes the number of classes. \n",
    "The underlying `Sampler` primitive returns quasi-distributions of bit strings and we just need to define a mapping from the measured bitstrings to the different classes. For binary classification we use the parity mapping. Again we can use the `QNNCircuit` class to set up a parameterized quantum circuit from a feature map and ansatz of our choice. Please note that, once again, we are setting the `StatevectorSampler` instance from `qiskit.primitives` to the QNN and relying on `statevector`."
   ]
  },
  {
   "cell_type": "code",
   "execution_count": null,
   "id": "d1ff56f4",
   "metadata": {},
   "outputs": [],
   "source": [
    "# construct a quantum circuit from the default ZZFeatureMap feature map and a customized RealAmplitudes ansatz\n",
    "qc = QNNCircuit(ansatz=RealAmplitudes(num_inputs, reps=1))\n",
    "qc.draw(\"mpl\", style=\"clifford\")"
   ]
  },
  {
   "cell_type": "code",
   "execution_count": 12,
   "id": "young-sensitivity",
   "metadata": {},
   "outputs": [],
   "source": [
    "# parity maps bitstrings to 0 or 1\n",
    "def parity(x):\n",
    "    return \"{:b}\".format(x).count(\"1\") % 2\n",
    "\n",
    "\n",
    "output_shape = 2  # corresponds to the number of classes, possible outcomes of the (parity) mapping."
   ]
  },
  {
   "cell_type": "code",
   "execution_count": null,
   "id": "statutory-mercury",
   "metadata": {},
   "outputs": [],
   "source": [
    "from qiskit.primitives import StatevectorSampler as Sampler\n",
    "\n",
    "sampler = Sampler()\n",
    "# construct QNN\n",
    "sampler_qnn = SamplerQNN(\n",
    "    circuit=qc,\n",
    "    interpret=parity,\n",
    "    output_shape=output_shape,\n",
    "    sampler=sampler,\n",
    ")"
   ]
  },
  {
   "cell_type": "code",
   "execution_count": 14,
   "id": "hybrid-orlando",
   "metadata": {},
   "outputs": [],
   "source": [
    "# construct classifier\n",
    "sampler_classifier = NeuralNetworkClassifier(\n",
    "    neural_network=sampler_qnn, optimizer=COBYLA(maxiter=30), callback=callback_graph\n",
    ")"
   ]
  },
  {
   "cell_type": "code",
   "execution_count": null,
   "id": "adult-newman",
   "metadata": {},
   "outputs": [],
   "source": [
    "# create empty array for callback to store evaluations of the objective function\n",
    "objective_func_vals = []\n",
    "plt.rcParams[\"figure.figsize\"] = (12, 6)\n",
    "\n",
    "# fit classifier to data\n",
    "sampler_classifier.fit(X, y01)\n",
    "\n",
    "# return to default figsize\n",
    "plt.rcParams[\"figure.figsize\"] = (6, 4)\n",
    "\n",
    "# score classifier\n",
    "sampler_classifier.score(X, y01)"
   ]
  },
  {
   "cell_type": "code",
   "execution_count": null,
   "id": "angry-bulgarian",
   "metadata": {},
   "outputs": [],
   "source": [
    "# evaluate data points\n",
    "y_predict = sampler_classifier.predict(X)\n",
    "\n",
    "# plot results\n",
    "# red == wrongly classified\n",
    "for x, y_target, y_p in zip(X, y01, y_predict):\n",
    "    if y_target == 1:\n",
    "        plt.plot(x[0], x[1], \"bo\")\n",
    "    else:\n",
    "        plt.plot(x[0], x[1], \"go\")\n",
    "    if y_target != y_p:\n",
    "        plt.scatter(x[0], x[1], s=200, facecolors=\"none\", edgecolors=\"r\", linewidths=2)\n",
    "plt.plot([-1, 1], [1, -1], \"--\", color=\"black\")\n",
    "plt.show()"
   ]
  },
  {
   "cell_type": "markdown",
   "id": "assisted-individual",
   "metadata": {},
   "source": [
    "Again, once the model is trained we can take a look at the weights. As we set `reps=1` explicitly in our ansatz, we can see less parameters than in the previous model."
   ]
  },
  {
   "cell_type": "code",
   "execution_count": null,
   "id": "indonesian-bulletin",
   "metadata": {},
   "outputs": [],
   "source": [
    "sampler_classifier.weights"
   ]
  },
  {
   "cell_type": "markdown",
   "id": "champion-approval",
   "metadata": {},
   "source": [
    "### Variational Quantum Classifier (`VQC`)\n",
    "\n",
    "The `VQC` is a special variant of the `NeuralNetworkClassifier` with a `SamplerQNN`. It applies a parity mapping (or extensions to multiple classes) to map from the bitstring to the classification, which results in a probability vector, which is interpreted as a one-hot encoded result. By default, it applies this the `CrossEntropyLoss` function that expects labels given in one-hot encoded format and will return predictions in that format too."
   ]
  },
  {
   "cell_type": "code",
   "execution_count": null,
   "id": "legislative-dublin",
   "metadata": {},
   "outputs": [],
   "source": [
    "# construct feature map, ansatz, and optimizer\n",
    "feature_map = ZZFeatureMap(num_inputs)\n",
    "ansatz = RealAmplitudes(num_inputs, reps=1)\n",
    "\n",
    "# construct variational quantum classifier\n",
    "vqc = VQC(\n",
    "    feature_map=feature_map,\n",
    "    ansatz=ansatz,\n",
    "    loss=\"cross_entropy\",\n",
    "    optimizer=COBYLA(maxiter=30),\n",
    "    callback=callback_graph,\n",
    "    sampler=sampler,\n",
    ")"
   ]
  },
  {
   "cell_type": "code",
   "execution_count": null,
   "id": "geographic-adjustment",
   "metadata": {},
   "outputs": [],
   "source": [
    "# create empty array for callback to store evaluations of the objective function\n",
    "objective_func_vals = []\n",
    "plt.rcParams[\"figure.figsize\"] = (12, 6)\n",
    "\n",
    "# fit classifier to data\n",
    "vqc.fit(X, y_one_hot)\n",
    "\n",
    "# return to default figsize\n",
    "plt.rcParams[\"figure.figsize\"] = (6, 4)\n",
    "\n",
    "# score classifier\n",
    "vqc.score(X, y_one_hot)"
   ]
  },
  {
   "cell_type": "code",
   "execution_count": null,
   "id": "stopped-heavy",
   "metadata": {},
   "outputs": [],
   "source": [
    "# evaluate data points\n",
    "y_predict = vqc.predict(X)\n",
    "\n",
    "# plot results\n",
    "# red == wrongly classified\n",
    "for x, y_target, y_p in zip(X, y_one_hot, y_predict):\n",
    "    if y_target[0] == 1:\n",
    "        plt.plot(x[0], x[1], \"bo\")\n",
    "    else:\n",
    "        plt.plot(x[0], x[1], \"go\")\n",
    "    if not np.all(y_target == y_p):\n",
    "        plt.scatter(x[0], x[1], s=200, facecolors=\"none\", edgecolors=\"r\", linewidths=2)\n",
    "plt.plot([-1, 1], [1, -1], \"--\", color=\"black\")\n",
    "plt.show()"
   ]
  },
  {
   "cell_type": "markdown",
   "id": "grave-testament",
   "metadata": {},
   "source": [
    "### Multiple classes with VQC\n",
    "In this section we generate an artificial dataset that contains samples of three classes and show how to train a model to classify this dataset. This example shows how to tackle more interesting problems in machine learning. Of course, for a sake of short training time we prepare a tiny dataset. We employ `make_classification` from SciKit-Learn to generate a dataset. There 10 samples in the dataset, 2 features, that means we can still have a nice plot of the dataset, as well as no redundant features, these are features are generated as a combinations of the other features. Also, we have 3 different classes in the dataset, each classes one kind of centroid and we set class separation to `2.0`, a slight increase from the default value of `1.0` to ease the classification problem.\n",
    "\n",
    "Once the dataset is generated we scale the features into the range `[0, 1]`."
   ]
  },
  {
   "cell_type": "code",
   "execution_count": 21,
   "id": "plastic-dividend",
   "metadata": {},
   "outputs": [],
   "source": [
    "from sklearn.datasets import make_classification\n",
    "from sklearn.preprocessing import MinMaxScaler\n",
    "\n",
    "X, y = make_classification(\n",
    "    n_samples=10,\n",
    "    n_features=2,\n",
    "    n_classes=3,\n",
    "    n_redundant=0,\n",
    "    n_clusters_per_class=1,\n",
    "    class_sep=2.0,\n",
    "    random_state=algorithm_globals.random_seed,\n",
    ")\n",
    "X = MinMaxScaler().fit_transform(X)"
   ]
  },
  {
   "cell_type": "markdown",
   "id": "forced-disclosure",
   "metadata": {},
   "source": [
    "Let's see how our dataset looks like."
   ]
  },
  {
   "cell_type": "code",
   "execution_count": null,
   "id": "premier-drill",
   "metadata": {},
   "outputs": [],
   "source": [
    "plt.scatter(X[:, 0], X[:, 1], c=y)"
   ]
  },
  {
   "cell_type": "markdown",
   "id": "deadly-response",
   "metadata": {},
   "source": [
    "We also transform labels and make them categorical."
   ]
  },
  {
   "cell_type": "code",
   "execution_count": null,
   "id": "exposed-bailey",
   "metadata": {},
   "outputs": [],
   "source": [
    "y_cat = np.empty(y.shape, dtype=str)\n",
    "y_cat[y == 0] = \"A\"\n",
    "y_cat[y == 1] = \"B\"\n",
    "y_cat[y == 2] = \"C\"\n",
    "print(y_cat)"
   ]
  },
  {
   "cell_type": "markdown",
   "id": "instructional-headquarters",
   "metadata": {},
   "source": [
    "We create an instance of `VQC` similar to the previous example, but in this case we pass a minimal set of parameters. Instead of feature map and ansatz we pass just the number of qubits that is equal to the number of features in the dataset, an optimizer with a low number of iteration to reduce training time, a quantum instance, and a callback to observe progress."
   ]
  },
  {
   "cell_type": "code",
   "execution_count": null,
   "id": "latin-result",
   "metadata": {},
   "outputs": [],
   "source": [
    "vqc = VQC(\n",
    "    num_qubits=2,\n",
    "    optimizer=COBYLA(maxiter=30),\n",
    "    callback=callback_graph,\n",
    "    sampler=sampler,\n",
    ")"
   ]
  },
  {
   "cell_type": "markdown",
   "id": "proper-bookmark",
   "metadata": {},
   "source": [
    "Start the training process in the same way as in previous examples."
   ]
  },
  {
   "cell_type": "code",
   "execution_count": null,
   "id": "reported-pioneer",
   "metadata": {},
   "outputs": [],
   "source": [
    "# create empty array for callback to store evaluations of the objective function\n",
    "objective_func_vals = []\n",
    "plt.rcParams[\"figure.figsize\"] = (12, 6)\n",
    "\n",
    "# fit classifier to data\n",
    "vqc.fit(X, y_cat)\n",
    "\n",
    "# return to default figsize\n",
    "plt.rcParams[\"figure.figsize\"] = (6, 4)\n",
    "\n",
    "# score classifier\n",
    "vqc.score(X, y_cat)"
   ]
  },
  {
   "cell_type": "markdown",
   "id": "weighted-renaissance",
   "metadata": {},
   "source": [
    "Despite we had the low number of iterations, we achieved quite a good score. Let see the output of the `predict` method and compare the output with the ground truth."
   ]
  },
  {
   "cell_type": "code",
   "execution_count": null,
   "id": "employed-patient",
   "metadata": {},
   "outputs": [],
   "source": [
    "predict = vqc.predict(X)\n",
    "print(f\"Predicted labels: {predict}\")\n",
    "print(f\"Ground truth:     {y_cat}\")"
   ]
  }
 ],
 "metadata": {
  "kernelspec": {
   "display_name": ".venv",
   "language": "python",
   "name": "python3"
  },
  "language_info": {
   "codemirror_mode": {
    "name": "ipython",
    "version": 3
   },
   "file_extension": ".py",
   "mimetype": "text/x-python",
   "name": "python",
   "nbconvert_exporter": "python",
   "pygments_lexer": "ipython3",
   "version": "3.11.11"
  },
  "toc": {
   "base_numbering": 1,
   "nav_menu": {},
   "number_sections": true,
   "sideBar": true,
   "skip_h1_title": false,
   "title_cell": "Table of Contents",
   "title_sidebar": "Contents",
   "toc_cell": false,
   "toc_position": {},
   "toc_section_display": true,
   "toc_window_display": false
  }
 },
 "nbformat": 4,
 "nbformat_minor": 5
}
